{
 "cells": [
  {
   "cell_type": "markdown",
   "metadata": {},
   "source": [
    "# 대표적인 데이터 구조: 링크드 리스트 (Linked List)"
   ]
  },
  {
   "cell_type": "markdown",
   "metadata": {},
   "source": [
    "## 1. 링크드 리스트 (Linked List) 구조\n",
    "* 연결 리스트라고도 함\n",
    "* 배열은 순차적으로 연결된 공간에 데이터를 나열하는 데이터 구조\n",
    "* 링크드 리스트는 떨어진 곳에 존재하는 데이터를 화살표로 연결해서 관리하는 데이터 구조\n",
    "* <font color='#BF360C'>본래 C언어에서는 주요한 데이터 구조이지만, 파이썬은 리스트 타입이 링크드 리스트의 기능을 모두 지원</font>"
   ]
  },
  {
   "cell_type": "markdown",
   "metadata": {},
   "source": [
    "* 링크드 리스트 기본 구조와 용어\n",
    "  - 노드(Node): 데이터 저장 단위 (데이터값, 포인터) 로 구성\n",
    "  - 포인터(pointer): 각 노드 안에서, 다음이나 이전의 노드와의 연결 정보를 가지고 있는 공간\n",
    "\n",
    "<br>\n",
    "* 일반적인 링크드 리스트 형태"
   ]
  },
  {
   "cell_type": "code",
   "execution_count": 11,
   "metadata": {},
   "outputs": [
    {
     "output_type": "execute_result",
     "data": {
      "image/png": "[encoded data removed]",
      "text/plain": [
       "<IPython.core.display.Image object>"
      ]
     },
     "metadata": {},
     "execution_count": 11
    }
   ],
   "source": [
    "#!pip install IPython\n",
    "from IPython.display import Image\n",
    "Image(\"https://www.fun-coding.org/00_Images/linkedlist.png\")\n",
    "# (출처:wikipedia, https://en.wikipedia.org/wiki/Linked_list)"
   ]
  },
  {
   "cell_type": "markdown",
   "metadata": {},
   "source": [
    "## 2. 간단한 링크드 리스트 예"
   ]
  },
  {
   "cell_type": "markdown",
   "metadata": {},
   "source": [
    "#### Node 구현\n",
    "- 보통 파이썬에서 링크드 리스트 구현시, 파이썬 클래스를 활용함\n",
    "  - 파이썬 객체지향 문법 이해 필요\n",
    "  - 참고: https://www.fun-coding.org/PL&OOP1-3.html"
   ]
  },
  {
   "cell_type": "code",
   "execution_count": 12,
   "metadata": {},
   "outputs": [],
   "source": [
    "class Node:\n",
    "    def __init__(self, data):\n",
    "        self.data = data\n",
    "        self.next = None"
   ]
  },
  {
   "cell_type": "code",
   "execution_count": 14,
   "metadata": {},
   "outputs": [],
   "source": [
    "# 아래와 같이, next에 올 Node객체도 함께 전달할 수 있는 형식으로 class를 구현하는 것이 좋다.\n",
    "class Node:\n",
    "    def __init__(self, data, next=None):\n",
    "        self.data = data\n",
    "        self.next = next"
   ]
  },
  {
   "cell_type": "markdown",
   "metadata": {},
   "source": [
    "#### Node와 Node 연결하기 (포인터 활용)"
   ]
  },
  {
   "cell_type": "code",
   "execution_count": 15,
   "metadata": {},
   "outputs": [],
   "source": [
    "node1 = Node(1)\n",
    "node2 = Node(2)\n",
    "node1.next = node2\n",
    "head = node1  # 가장 앞의 노드를 나타내는 변수를 선언 및 노드 할당"
   ]
  },
  {
   "cell_type": "markdown",
   "metadata": {},
   "source": [
    "#### 링크드 리스트로 데이터 추가하기"
   ]
  },
  {
   "cell_type": "code",
   "execution_count": 17,
   "metadata": {},
   "outputs": [],
   "source": [
    "class Node:\n",
    "    def __init__(self, data, next=None):\n",
    "        self.data = data\n",
    "        self.next = next\n",
    "\n",
    "def add(data):\n",
    "    # 가장 앞의 노드부터 링크드 리스트를 순회할 것이므로, head를 node변수에 할당\n",
    "    node = head \n",
    "    # 다음 노드가 있으면 다음 노드를 node에 재할당 다음 노드가 none이 될 때까지 반복\n",
    "    while node.next: \n",
    "        node = node.next\n",
    "    # 마지막 노드(none)에 도달하면, next에 data를 값으로 갖는 Node객체 할당\n",
    "    node.next = Node(data)"
   ]
  },
  {
   "cell_type": "code",
   "execution_count": 18,
   "metadata": {},
   "outputs": [],
   "source": [
    "node1 = Node(1)\n",
    "head = node1\n",
    "for index in range(2, 10):\n",
    "    add(index)"
   ]
  },
  {
   "cell_type": "markdown",
   "metadata": {},
   "source": [
    "#### 링크드 리스트 데이터 출력하기(검색하기)"
   ]
  },
  {
   "cell_type": "code",
   "execution_count": 19,
   "metadata": {},
   "outputs": [
    {
     "output_type": "stream",
     "name": "stdout",
     "text": [
      "1\n2\n3\n4\n5\n6\n7\n8\n9\n"
     ]
    }
   ],
   "source": [
    "node = head\n",
    "while node.next:\n",
    "    print(node.data)\n",
    "    node = node.next\n",
    "print (node.data)"
   ]
  },
  {
   "cell_type": "markdown",
   "metadata": {},
   "source": [
    "## 3. 링크드 리스트의 장단점 (전통적인 C언어에서의 배열과 링크드 리스트)\n",
    "* 장점\n",
    "  - 미리 데이터 공간을 미리 할당하지 않아도 됨\n",
    "    - 링크드 리스트는 미리 할당된 공간 속에서 자료를 추가/삭제하는 것이 아니라, 다음 노드의 위치를 가리키는 주소를 값으로 가지고 있기 때문에, 이부분만 수정해주면 되기 때문.\n",
    "    - 링크드 리스트는 서로 떨어져 있는 자료들을 주소를 기준으로 서로 참조해주는 것.\n",
    "    - 배열은 **미리 데이터 공간을 할당** 해야 함\n",
    "* 단점\n",
    "  - 연결을 위한 별도 데이터 공간이 필요하므로, 저장공간 효율이 높지 않음\n",
    "  - 연결 정보를 찾는 시간이 필요하므로 접근 속도가 느림\n",
    "  - 중간 데이터 삭제시, 앞뒤 데이터의 연결을 재구성해야 하는 부가적인 작업 필요"
   ]
  },
  {
   "cell_type": "markdown",
   "metadata": {},
   "source": [
    "## 4. 링크드 리스트의 복잡한 기능1 (링크드 리스트 데이터 사이에 데이터를 추가)\n",
    "- 링크드 리스트는 유지 관리에 부가적인 구현이 필요함\n",
    "<br>\n",
    "<image src=\"https://www.fun-coding.org/00_Images/linkedlistadd.png\"/>"
   ]
  },
  {
   "cell_type": "code",
   "execution_count": 24,
   "metadata": {},
   "outputs": [
    {
     "output_type": "stream",
     "name": "stdout",
     "text": [
      "1\n2\n3\n4\n5\n6\n7\n8\n9\n"
     ]
    }
   ],
   "source": [
    "# 현재 링크드 리스트의 구조를 확인하기\n",
    "node = head\n",
    "while node.next:\n",
    "    print(node.data)\n",
    "    node = node.next\n",
    "print (node.data)"
   ]
  },
  {
   "cell_type": "code",
   "execution_count": 26,
   "metadata": {},
   "outputs": [],
   "source": [
    "# 링크드 리스트 값들의 중간에 삽입할 Node객체 생성\n",
    "node3 = Node(1.5)"
   ]
  },
  {
   "cell_type": "code",
   "execution_count": 27,
   "metadata": {},
   "outputs": [],
   "source": [
    "node = head\n",
    "search = True\n",
    "while search:\n",
    "    if node.data == 1:\n",
    "        search = False\n",
    "    else:\n",
    "        node = node.next\n",
    "\n",
    "node_next = node.next # 원래 1의 값을 갖는 노드의 다음 객체를 따로 변수에 저장해둔 뒤,\n",
    "node.next = node3 # 1의 값을 갖는 노드의 다음 노드로 새로운 노드를 할당\n",
    "node3.next = node_next # 새로 삽입된 노드의 다음 노드에 따로 저장해 두었던 원래 노드의 다음 노드를 할당"
   ]
  },
  {
   "cell_type": "code",
   "execution_count": 28,
   "metadata": {},
   "outputs": [
    {
     "output_type": "stream",
     "name": "stdout",
     "text": [
      "1\n1.5\n2\n3\n4\n5\n6\n7\n8\n9\n"
     ]
    }
   ],
   "source": [
    "# 새로운 노드가 적절한 위치에 연결되었는지 확인\n",
    "node = head\n",
    "while node.next:\n",
    "    print(node.data)\n",
    "    node = node.next\n",
    "print (node.data)"
   ]
  },
  {
   "cell_type": "markdown",
   "metadata": {},
   "source": [
    "## 5. 파이썬 객체지향 프로그래밍으로 링크드 리스트 구현하기"
   ]
  },
  {
   "cell_type": "code",
   "execution_count": 29,
   "metadata": {},
   "outputs": [],
   "source": [
    "class Node:\n",
    "    def __init__(self, data, next=None):\n",
    "        self.data = data\n",
    "        self.next = next\n",
    "    \n",
    "class NodeMgmt:\n",
    "    def __init__(self, data):\n",
    "        self.head = Node(data)\n",
    "        \n",
    "    def add(self, data):\n",
    "        if self.head == '':\n",
    "            self.head = Node(data)\n",
    "        else:\n",
    "            node = self.head\n",
    "            while node.next:\n",
    "                node = node.next\n",
    "            node.next = Node(data)\n",
    "        \n",
    "    def desc(self):\n",
    "        node = self.head\n",
    "        while node:\n",
    "            print (node.data)\n",
    "            node = node.next"
   ]
  },
  {
   "cell_type": "code",
   "execution_count": 30,
   "metadata": {},
   "outputs": [
    {
     "output_type": "stream",
     "name": "stdout",
     "text": [
      "0\n"
     ]
    }
   ],
   "source": [
    "linkedlist1 = NodeMgmt(0)\n",
    "linkedlist1.desc()"
   ]
  },
  {
   "cell_type": "code",
   "execution_count": 31,
   "metadata": {},
   "outputs": [
    {
     "output_type": "stream",
     "name": "stdout",
     "text": [
      "0\n1\n2\n3\n4\n5\n6\n7\n8\n9\n"
     ]
    }
   ],
   "source": [
    "for data in range(1, 10):\n",
    "    linkedlist1.add(data)\n",
    "linkedlist1.desc()"
   ]
  },
  {
   "cell_type": "markdown",
   "metadata": {},
   "source": [
    "## 6. 링크드 리스트의 복잡한 기능2 (특정 노드를 삭제)\n",
    "* 다음 코드는 위의 코드에서 delete 메서드만 추가한 것이므로 해당 메서드만 확인하면 됨"
   ]
  },
  {
   "cell_type": "code",
   "execution_count": 46,
   "metadata": {},
   "outputs": [],
   "source": [
    "class Node:\n",
    "    def __init__(self, data, next=None):\n",
    "        self.data = data\n",
    "        self.next = next\n",
    "    \n",
    "class NodeMgmt:\n",
    "    def __init__(self, data):\n",
    "        self.head = Node(data)\n",
    "        \n",
    "    def add(self, data):\n",
    "        if self.head == '':\n",
    "            self.head = Node(data)\n",
    "        else:\n",
    "            node = self.head\n",
    "            while node.next:\n",
    "                node = node.next\n",
    "            node.next = Node(data)\n",
    "        \n",
    "    def desc(self):\n",
    "        node = self.head\n",
    "        if node:\n",
    "            while node:\n",
    "                print (node.data)\n",
    "                node = node.next\n",
    "        else:\n",
    "            print('There is no existing Node in LinkedList')\n",
    "    \n",
    "    def delete(self, data):\n",
    "        if self.head == '':\n",
    "            print (\"해당 값을 가진 노드가 없습니다.\")\n",
    "            return\n",
    "        \n",
    "        if self.head.data == data:\n",
    "            temp = self.head # headNode객체의 주소값을 참조하는 변수 temp\n",
    "            self.head = self.head.next\n",
    "            del temp # temp가 참조하고 있는 주소의 객체 headNode를 메모리에서 삭제함\n",
    "        else:\n",
    "            node = self.head\n",
    "            while node.next:\n",
    "                if node.next.data == data:\n",
    "                    temp = node.next\n",
    "                    node.next = node.next.next\n",
    "                    del temp\n",
    "                    return\n",
    "                else:\n",
    "                    node = node.next"
   ]
  },
  {
   "cell_type": "markdown",
   "metadata": {},
   "source": [
    "#### 테스트를 위해 1개 노드를 만들어 봄"
   ]
  },
  {
   "cell_type": "code",
   "execution_count": 47,
   "metadata": {},
   "outputs": [
    {
     "output_type": "stream",
     "name": "stdout",
     "text": [
      "0\n"
     ]
    }
   ],
   "source": [
    "linkedlist1 = NodeMgmt(0)\n",
    "linkedlist1.desc()"
   ]
  },
  {
   "cell_type": "markdown",
   "metadata": {},
   "source": [
    "#### head 가 살아있음을 확인"
   ]
  },
  {
   "cell_type": "code",
   "execution_count": 48,
   "metadata": {},
   "outputs": [
    {
     "output_type": "execute_result",
     "data": {
      "text/plain": [
       "<__main__.Node at 0x1d0e44d04c0>"
      ]
     },
     "metadata": {},
     "execution_count": 48
    }
   ],
   "source": [
    "linkedlist1.head"
   ]
  },
  {
   "cell_type": "markdown",
   "metadata": {},
   "source": [
    "#### head 를 지워봄(위에서 언급한 경우의 수1)"
   ]
  },
  {
   "cell_type": "code",
   "execution_count": 49,
   "metadata": {},
   "outputs": [
    {
     "output_type": "stream",
     "name": "stdout",
     "text": [
      "0\nThere is no existing Node in LinkedList\n"
     ]
    }
   ],
   "source": [
    "linkedlist1.desc() # 현재 있는 노드의 값 0 을 반환\n",
    "linkedlist1.delete(0)\n",
    "linkedlist1.desc() # 더이상 노드가 없으므로 반환값이 없음"
   ]
  },
  {
   "cell_type": "markdown",
   "metadata": {},
   "source": [
    "#### 다음 코드 실행시 아무것도 안나온다는 것은 linkedlist1.head 가 정상적으로 삭제되었음을 의미"
   ]
  },
  {
   "cell_type": "code",
   "execution_count": 50,
   "metadata": {},
   "outputs": [],
   "source": [
    "linkedlist1.head"
   ]
  },
  {
   "cell_type": "markdown",
   "metadata": {},
   "source": [
    "#### 다시 하나의 노드를 만들어봄"
   ]
  },
  {
   "cell_type": "code",
   "execution_count": 51,
   "metadata": {},
   "outputs": [
    {
     "output_type": "stream",
     "name": "stdout",
     "text": [
      "0\n"
     ]
    }
   ],
   "source": [
    "linkedlist1 = NodeMgmt(0)\n",
    "linkedlist1.desc()"
   ]
  },
  {
   "cell_type": "markdown",
   "metadata": {},
   "source": [
    "#### 이번엔 여러 노드를 더 추가해봄"
   ]
  },
  {
   "cell_type": "code",
   "execution_count": 52,
   "metadata": {},
   "outputs": [
    {
     "output_type": "stream",
     "name": "stdout",
     "text": [
      "0\n1\n2\n3\n4\n5\n6\n7\n8\n9\n"
     ]
    }
   ],
   "source": [
    "for data in range(1, 10):\n",
    "    linkedlist1.add(data)\n",
    "linkedlist1.desc()"
   ]
  },
  {
   "cell_type": "markdown",
   "metadata": {},
   "source": [
    "#### 노드 중에 한개를 삭제함 (위에서 언급한 경우의 수2)"
   ]
  },
  {
   "cell_type": "code",
   "execution_count": 53,
   "metadata": {},
   "outputs": [],
   "source": [
    "linkedlist1.delete(4)"
   ]
  },
  {
   "cell_type": "markdown",
   "metadata": {},
   "source": [
    "#### 특정 노드가 삭제되었음을 알 수 있음"
   ]
  },
  {
   "cell_type": "code",
   "execution_count": 54,
   "metadata": {},
   "outputs": [
    {
     "output_type": "stream",
     "name": "stdout",
     "text": [
      "0\n1\n2\n3\n5\n6\n7\n8\n9\n"
     ]
    }
   ],
   "source": [
    "linkedlist1.desc()"
   ]
  },
  {
   "cell_type": "code",
   "execution_count": 55,
   "metadata": {},
   "outputs": [],
   "source": [
    "linkedlist1.delete(9)"
   ]
  },
  {
   "cell_type": "code",
   "execution_count": 56,
   "metadata": {},
   "outputs": [
    {
     "output_type": "stream",
     "name": "stdout",
     "text": [
      "0\n1\n2\n3\n5\n6\n7\n8\n"
     ]
    }
   ],
   "source": [
    "linkedlist1.desc()"
   ]
  },
  {
   "cell_type": "markdown",
   "metadata": {},
   "source": [
    "<div class=\"alert alert-block alert-warning\">\n",
    "<strong><font color=\"blue\" size=\"3em\">연습1: 위 코드에서 노드 데이터가 2인 노드 삭제해보기</font></strong>\n",
    "</div>"
   ]
  },
  {
   "cell_type": "code",
   "execution_count": 64,
   "metadata": {},
   "outputs": [
    {
     "output_type": "stream",
     "name": "stdout",
     "text": [
      "0\n1\n2\n3\n4\n5\n6\n7\n8\n9\n10\n\n0\n1\n3\n4\n5\n6\n7\n8\n9\n10\n"
     ]
    }
   ],
   "source": [
    "node_mgmt = NodeMgmt(0)\n",
    "for i in range(1,11):\n",
    "    node_mgmt.add(i)\n",
    "node_mgmt.desc()\n",
    "node_mgmt.delete(2)\n",
    "print()\n",
    "node_mgmt.desc()"
   ]
  },
  {
   "cell_type": "markdown",
   "metadata": {},
   "source": [
    "<div class=\"alert alert-block alert-warning\">\n",
    "<strong><font color=\"blue\" size=\"3em\">연습2: 위 코드에서 노드 데이터가 특정 숫자인 노드를 찾는 함수를 만들고, 테스트해보기</font></strong><br>\n",
    "테스트: 임의로 1 ~ 9까지 데이터를 링크드 리스트에 넣어보고, 데이터 값이 4인 노드의 데이터 값 출력해보기\n",
    "</div>"
   ]
  },
  {
   "cell_type": "code",
   "execution_count": 67,
   "metadata": {},
   "outputs": [],
   "source": [
    "class Node:\n",
    "    def __init__(self, data):\n",
    "        self.data = data\n",
    "        self.next = None\n",
    "\n",
    "class NodeMgmt:\n",
    "    def __init__(self, data):\n",
    "        self.head = Node(data)\n",
    "    \n",
    "    def add(self, data):\n",
    "        if self.head == '':\n",
    "            self.head = Node(data)\n",
    "        else:\n",
    "            node = self.head\n",
    "            while node.next:\n",
    "                node = node.next\n",
    "            node.next = Node(data)\n",
    "\n",
    "    def desc(self):\n",
    "        node = self.head\n",
    "        while node:\n",
    "            print (node.data)\n",
    "            node = node.next\n",
    "\n",
    "    def delete(self, data):\n",
    "        if self.head == '':\n",
    "            print ('해당 값을 가진 노드가 없습니다.')\n",
    "            return\n",
    "\n",
    "        # 경우의 수1: self.head를 삭제해야할 경우 - self.head를 바꿔줘야 함\n",
    "        if self.head.data == data: \n",
    "            # self.head 객체를 삭제하기 위해, 임시로 temp에 담아서 객체를 삭제했음\n",
    "            temp = self.head \n",
    "            # 만약 self.head 객체를 삭제하면, 이 코드가 실행이 안되기 때문!\n",
    "            self.head = self.head.next \n",
    "            del temp\n",
    "        else:\n",
    "            node = self.head\n",
    "            \n",
    "            # 경우의 수2: self.head가 아닌 노드를 삭제해야할 경우\n",
    "            while node.next: \n",
    "                if node.next.data == data:\n",
    "                    temp = node.next\n",
    "                    node.next = node.next.next       \n",
    "                    del temp                         \n",
    "                    pass                             \n",
    "                else:\n",
    "                    node = node.next\n",
    "                    \n",
    "    def search_node(self, data):\n",
    "        node = self.head\n",
    "        while node:\n",
    "            if node.data == data:\n",
    "                return node\n",
    "            else:\n",
    "                node = node.next"
   ]
  },
  {
   "cell_type": "code",
   "execution_count": null,
   "metadata": {},
   "outputs": [],
   "source": []
  },
  {
   "cell_type": "code",
   "execution_count": null,
   "metadata": {},
   "outputs": [],
   "source": [
    "# 테스트\n",
    "node_mgmt = NodeMgmt(0)\n",
    "for data in range(1, 10):\n",
    "    node_mgmt.add(data)\n",
    "\n",
    "node = node_mgmt.search_node(4)\n",
    "print (node.data)"
   ]
  },
  {
   "cell_type": "markdown",
   "metadata": {},
   "source": [
    "## 7. 다양한 링크드 리스트 구조 \n",
    "* 더블 링크드 리스트(Doubly linked list) 기본 구조 \n",
    "  - 이중 연결 리스트라고도 함\n",
    "  - 장점: 양방향으로 연결되어 있어서 노드 탐색이 양쪽으로 모두 가능\n",
    "  <br>\n",
    "<img src=\"https://www.fun-coding.org/00_Images/doublelinkedlist.png\" />\n",
    "(출처: wikipedia, https://en.wikipedia.org/wiki/Linked_list)"
   ]
  },
  {
   "cell_type": "code",
   "execution_count": 72,
   "metadata": {},
   "outputs": [],
   "source": [
    "class Node():\n",
    "    def __init__(self, data, prev=None, next=None):\n",
    "        self.prev = prev\n",
    "        self.data = data\n",
    "        self.next = next\n",
    "class double_linked_list():\n",
    "    def __init__(self, data):\n",
    "        self.head = Node(data)\n",
    "        self.tail = self.head\n",
    "    \n",
    "    def insert(self, data):\n",
    "        if self.head == None: # 이런 경우는 없겠지만, 방어용 코드로서 작성하는 편이다.\n",
    "            self.head = Node(data)\n",
    "            self.tail = self.head\n",
    "        else:\n",
    "            cur_node = self.head\n",
    "            while cur_node.next:\n",
    "                cur_node = cur_node.next\n",
    "            new_node = Node(data)\n",
    "            cur_node.next = new_node\n",
    "            new_node.prev = cur_node\n",
    "            self.tail = new_node\n",
    "        \n",
    "    def desc(self):\n",
    "        if self.head == None:\n",
    "            print('There is nothing in this DoubleLinkedList!')\n",
    "        else:\n",
    "            cur_node = self.head\n",
    "            while cur_node:\n",
    "                print(cur_node.data)\n",
    "                cur_node = cur_node.next\n"
   ]
  },
  {
   "cell_type": "code",
   "execution_count": 73,
   "metadata": {},
   "outputs": [
    {
     "output_type": "stream",
     "name": "stdout",
     "text": [
      "0\n1\n2\n3\n4\n5\n6\n7\n8\n9\n10\n"
     ]
    }
   ],
   "source": [
    "double_linked_list = double_linked_list(0)\n",
    "for data in range(1,11):\n",
    "    double_linked_list.insert(data)\n",
    "\n",
    "double_linked_list.desc()"
   ]
  },
  {
   "cell_type": "markdown",
   "metadata": {},
   "source": [
    "<div class=\"alert alert-block alert-warning\">\n",
    "<strong><font color=\"blue\" size=\"3em\">연습3: 위 코드에서 노드 데이터가 특정 숫자인 노드 앞에 데이터를 추가하는 함수를 만들고, 테스트해보기</font></strong><br>\n",
    "- 더블 링크드 리스트의 tail 에서부터 뒤로 이동하며, 특정 숫자인 노드를 찾는 방식으로 함수를 구현하기<br>\n",
    "- 테스트: 임의로 0 ~ 9까지 데이터를 링크드 리스트에 넣어보고, 데이터 값이 2인 노드 앞에 1.5 데이터 값을 가진 노드를 추가해보기\n",
    "</div>"
   ]
  },
  {
   "cell_type": "code",
   "execution_count": 110,
   "metadata": {},
   "outputs": [],
   "source": [
    "class Node():\n",
    "    def __init__(self, data, prev=None, next=None):\n",
    "        self.prev = prev\n",
    "        self.data = data\n",
    "        self.next = next\n",
    "class double_linked_list():\n",
    "    def __init__(self, data):\n",
    "        self.head = Node(data)\n",
    "        self.tail = self.head\n",
    "    \n",
    "    def insert(self, data):\n",
    "        if self.head == None: # 이런 경우는 없겠지만, 방어용 코드로서 작성하는 편이다.\n",
    "            self.head = Node(data)\n",
    "            self.tail = self.head\n",
    "        else:\n",
    "            cur_node = self.head\n",
    "            while cur_node.next:\n",
    "                cur_node = cur_node.next\n",
    "            new_node = Node(data)\n",
    "            cur_node.next = new_node\n",
    "            new_node.prev = cur_node\n",
    "            self.tail = new_node\n",
    "        \n",
    "    def desc(self):\n",
    "        if self.head == None:\n",
    "            print('There is nothing in this DoubleLinkedList!')\n",
    "        else:\n",
    "            cur_node = self.head\n",
    "            while cur_node:\n",
    "                print(cur_node.data)\n",
    "                cur_node = cur_node.next\n",
    "    def search_from_head(self, data):\n",
    "        if self.head == None:\n",
    "            # 더블링크드 리스트가 아무런 노드도 갖고 있지 않을때,\n",
    "            return False\n",
    "\n",
    "        cur_node = self.head\n",
    "        while cur_node:\n",
    "            # 현재 노드의 값이 찾고자 하는 값이라면 현재 노드 반환\n",
    "            if cur_node.data == data:return cur_node \n",
    "            # 아니라면, 다음 노드로 이동\n",
    "            else: \n",
    "                cur_node = cur_node.next\n",
    "        # while문을 통해 모든 노드를 순회했음에도 함수가 끝나지 않았음 == 값이 없음\n",
    "        return False\n",
    "\n",
    "    def search_from_tail(self, data):\n",
    "        if self.head == None:\n",
    "            # 더블링크드 리스트가 아무런 노드도 갖고 있지 않을때,\n",
    "            return False\n",
    "        \n",
    "        cur_node = self.tail\n",
    "        while cur_node:\n",
    "            if cur_node.data == data:\n",
    "                return cur_node\n",
    "            else:\n",
    "                cur_node = cur_node.prev\n",
    "        return False\n",
    "\n",
    "    def insert_before(self, data, before_data):    \n",
    "        # 만약 더블링크드리스트가 빈 값이라면, head와 tail을 새로운 노드로 설정\n",
    "        if self.head == None:\n",
    "            self.head = Node(data)\n",
    "            self.tail = self.head\n",
    "            return True\n",
    "        \n",
    "        # 꼬리쪽에서 부터 탐색(특정한값(찾고자하는 값) 앞부분에 새로운 값을 삽입하려고 하므로)\n",
    "        else:\n",
    "            cur_node = self.tail\n",
    "            while cur_node.data != before_data:\n",
    "                cur_node = cur_node.prev\n",
    "                # 만약 특정한 값(찾고자 하는 값)이 없으면 앞부분에 삽입할 수 없으므로 False\n",
    "                if cur_node == None:\n",
    "                    return False\n",
    "            # while문을 return을 거치지 않고 빠져나왔다는 것은 현재 노드의 값이 찾고자하는 특정한 값과 같으므로, 아래의 코드블록을 실행\n",
    "            new_node = Node(data)\n",
    "            before_new = cur_node.prev\n",
    "            if before_new == None:\n",
    "                self.head = new_node\n",
    "            else:\n",
    "                # 원래 특정한 값의 앞에 있던 노드의 뒷노드로  삽입하고자 하는 새로운 노드를,\n",
    "                # 새로운 노드의 앞 노드로, 해당 노드를 설정\n",
    "                before_new.next = new_node\n",
    "                new_node.prev = before_new\n",
    "            # 새로운 노드의 뒷노드로, 특정한 값을 갖는 노드로,\n",
    "            # 특정한 값을 갖는 노드의 앞노드로, 새로운 노드로 설정\n",
    "            new_node.next = cur_node\n",
    "            cur_node.prev = new_node\n",
    "            return True"
   ]
  },
  {
   "cell_type": "code",
   "execution_count": 111,
   "metadata": {},
   "outputs": [
    {
     "output_type": "stream",
     "name": "stdout",
     "text": [
      "0\n1\n2\n3\n4\n5\n6\n7\n8\n9\n"
     ]
    }
   ],
   "source": [
    "double_linked_list = double_linked_list(0)\n",
    "for data in range(1, 10):\n",
    "    double_linked_list.insert(data)\n",
    "double_linked_list.desc()"
   ]
  },
  {
   "cell_type": "code",
   "execution_count": 112,
   "metadata": {},
   "outputs": [
    {
     "output_type": "stream",
     "name": "stdout",
     "text": [
      "3\n4\n"
     ]
    }
   ],
   "source": [
    "node_3 = double_linked_list.search_from_tail(3)\n",
    "print(node_3.data)\n",
    "\n",
    "node_4 = double_linked_list.search_from_head(4)\n",
    "print(node_4.data)"
   ]
  },
  {
   "cell_type": "code",
   "execution_count": 113,
   "metadata": {},
   "outputs": [
    {
     "output_type": "stream",
     "name": "stdout",
     "text": [
      "very first node\n0\n1\n1.5\n2\n3\n4\n4.5\n5\n6\n7\n8\n9\n"
     ]
    }
   ],
   "source": [
    "double_linked_list.insert_before('very first node', 0)\n",
    "double_linked_list.insert_before(1.5, 2)\n",
    "double_linked_list.insert_before(4.5, 5)\n",
    "double_linked_list.desc()\n"
   ]
  },
  {
   "cell_type": "code",
   "execution_count": 114,
   "metadata": {},
   "outputs": [
    {
     "output_type": "execute_result",
     "data": {
      "text/plain": [
       "1.5"
      ]
     },
     "metadata": {},
     "execution_count": 114
    }
   ],
   "source": [
    "node_3 = double_linked_list.search_from_tail(1.5)\n",
    "node_3.data"
   ]
  },
  {
   "cell_type": "markdown",
   "metadata": {},
   "source": [
    "<div class=\"alert alert-block alert-warning\">\n",
    "<strong><font color=\"blue\" size=\"3em\">연습4: 위 코드에서 노드 데이터가 특정 숫자인 노드 뒤에 데이터를 추가하는 함수를 만들고, 테스트해보기</font></strong><br>\n",
    "- 더블 링크드 리스트의 head 에서부터 다음으로 이동하며, 특정 숫자인 노드를 찾는 방식으로 함수를 구현하기<br>\n",
    "- 테스트: 임의로 0 ~ 9까지 데이터를 링크드 리스트에 넣어보고, 데이터 값이 1인 노드 다음에 1.7 데이터 값을 가진 노드를 추가해보기\n",
    "</div>"
   ]
  },
  {
   "cell_type": "code",
   "execution_count": 120,
   "metadata": {},
   "outputs": [],
   "source": [
    "class Node:\n",
    "    def __init__(self, data, prev=None, next=None):\n",
    "        self.prev = prev\n",
    "        self.data = data\n",
    "        self.next = next\n",
    "\n",
    "class NodeMgmt:\n",
    "    def __init__(self, data):\n",
    "        self.head = Node(data)\n",
    "        self.tail = self.head\n",
    "    \n",
    "    def insert_before(self, data, before_data):\n",
    "        if self.head == None:\n",
    "            self.head = Node(data)\n",
    "            return True            \n",
    "        else:\n",
    "            node = self.tail\n",
    "            while node.data != before_data:\n",
    "                node = node.prev\n",
    "                if node == None:\n",
    "                    return False\n",
    "            new = Node(data)\n",
    "            before_new = node.prev\n",
    "            if before_new == None:\n",
    "                self.head = new\n",
    "            else:\n",
    "                before_new.next = new\n",
    "            new.next = node\n",
    "            return True\n",
    "\n",
    "    def insert_after(self, data, after_data):\n",
    "        if self.head == None:\n",
    "            self.head = Node(data)\n",
    "            return True            \n",
    "        else:\n",
    "            node = self.head\n",
    "            while node.data != after_data:\n",
    "                node = node.next\n",
    "                if node == None:\n",
    "                    return False\n",
    "            new = Node(data)\n",
    "            after_new = node.next\n",
    "            if after_new == None:\n",
    "                self.tail = new\n",
    "            else:\n",
    "                after_new.prev = new\n",
    "                new.next = after_new\n",
    "            new.prev = node\n",
    "            node.next = new\n",
    "            return True\n",
    "\n",
    "    def insert(self, data):\n",
    "        if self.head == None:\n",
    "            self.head = Node(data)\n",
    "        else:\n",
    "            node = self.head\n",
    "            while node.next:\n",
    "                node = node.next\n",
    "            new = Node(data)\n",
    "            node.next = new\n",
    "            new.prev = node\n",
    "            self.tail = new\n",
    "\n",
    "    def desc(self):\n",
    "        node = self.head\n",
    "        while node:\n",
    "            print (node.data)\n",
    "            node = node.next"
   ]
  },
  {
   "cell_type": "code",
   "execution_count": 121,
   "metadata": {},
   "outputs": [
    {
     "output_type": "stream",
     "name": "stdout",
     "text": [
      "0\n1\n2\n3\n4\n5\n6\n7\n8\n9\n\n0\n1\n1.5\n2\n3\n4\n5\n6\n7\n8\n9\nvery last node\n"
     ]
    }
   ],
   "source": [
    "node_mgmt = NodeMgmt(0)\n",
    "for data in range(1, 10):\n",
    "    node_mgmt.insert(data)\n",
    "\n",
    "node_mgmt.desc()\n",
    "print()\n",
    "node_mgmt.insert_after(1.5, 1)\n",
    "node_mgmt.insert_after(\"very last node\", 9)\n",
    "node_mgmt.desc()"
   ]
  }
 ],
 "metadata": {
  "kernelspec": {
   "name": "python3",
   "display_name": "Python 3.9.5 64-bit"
  },
  "language_info": {
   "codemirror_mode": {
    "name": "ipython",
    "version": 3
   },
   "file_extension": ".py",
   "mimetype": "text/x-python",
   "name": "python",
   "nbconvert_exporter": "python",
   "pygments_lexer": "ipython3",
   "version": "3.9.5"
  },
  "nbTranslate": {
   "displayLangs": [
    "*"
   ],
   "hotkey": "alt-t",
   "langInMainMenu": true,
   "sourceLang": "en",
   "targetLang": "fr",
   "useGoogleTranslate": true
  },
  "interpreter": {
   "hash": "13c0caf6928f330ac2055d75c338dc1bc2262b22cdd331ba826c81c895290ce9"
  }
 },
 "nbformat": 4,
 "nbformat_minor": 1
}