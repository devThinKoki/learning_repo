{
 "cells": [
  {
   "cell_type": "markdown",
   "metadata": {},
   "source": [
    "## 대표적인 데이터 구조6: 해쉬 테이블 (Hash Table)\n",
    "\n",
    "### 1. 해쉬 구조\n",
    "* Hash Table: 키(Key)에 데이터(Value)를 저장하는 데이터 구조\n",
    "  - Key를 통해 바로 데이터를 받아올 수 있으므로, 속도가 획기적으로 빨라짐\n",
    "  - 파이썬 딕셔너리(Dictionary) 타입이 해쉬 테이블의 예: Key를 가지고 바로 데이터(Value)를 꺼냄\n",
    "  - 보통 배열로 미리 Hash Table 사이즈만큼 생성 후에 사용 (공간과 탐색 시간을 맞바꾸는 기법)\n",
    "  - <font color='#BF360C'>단, 파이썬에서는 해쉬를 별도 구현할 이유가 없음 - 딕셔너리 타입을 사용하면 됨</font>"
   ]
  },
  {
   "cell_type": "markdown",
   "metadata": {},
   "source": [
    "### 2. 알아둘 용어\n",
    "* 해쉬(Hash): 임의 값을 고정 길이로 변환하는 것\n",
    "* 해쉬 테이블(Hash Table): 키 값의 연산에 의해 직접 접근이 가능한 데이터 구조\n",
    "* 해싱 함수(Hashing Function): Key에 대해 산술 연산을 이용해 데이터 위치를 찾을 수 있는 함수\n",
    "* 해쉬 값(Hash Value) 또는 해쉬 주소(Hash Address): Key를 해싱 함수로 연산해서, 해쉬 값을 알아내고, 이를 기반으로 해쉬 테이블에서 해당 Key에 대한 데이터 위치를 일관성있게 찾을 수 있음\n",
    "* 슬롯(Slot): 한 개의 데이터를 저장할 수 있는 공간\n",
    "* 저장할 데이터에 대해 Key를 추출할 수 있는 별도 함수도 존재할 수 있음\n",
    "<img src=\"https://www.fun-coding.org/00_Images/hash.png\" width=400 />"
   ]
  },
  {
   "cell_type": "markdown",
   "metadata": {},
   "source": [
    "### 3. 간단한 해쉬 예"
   ]
  },
  {
   "cell_type": "markdown",
   "metadata": {},
   "source": [
    "#### 3.1. hash table 만들기\n",
    "* 참고: 파이썬 list comprehension - https://www.fun-coding.org/PL&OOP5-2.html"
   ]
  },
  {
   "cell_type": "code",
   "execution_count": 1,
   "metadata": {},
   "outputs": [
    {
     "data": {
      "text/plain": [
       "[0, 0, 0, 0, 0, 0, 0, 0, 0, 0]"
      ]
     },
     "execution_count": 1,
     "metadata": {},
     "output_type": "execute_result"
    }
   ],
   "source": [
    "hash_table = list([i for i in range(10)])\n",
    "hash_table"
   ]
  },
  {
   "cell_type": "markdown",
   "metadata": {},
   "source": [
    "#### 3.2. 이번엔 초간단 해쉬 함수를 만들어봅니다.\n",
    "- 다양한 해쉬 함수 고안 기법이 있으며, 가장 간단한 방식이 Division 법 (나누기를 통한 나머지 값을 사용하는 기법)"
   ]
  },
  {
   "cell_type": "code",
   "execution_count": 7,
   "metadata": {},
   "outputs": [],
   "source": [
    "def hash_func(key):\n",
    "    return key % 5"
   ]
  },
  {
   "cell_type": "markdown",
   "metadata": {},
   "source": [
    "#### 3.3. 해쉬 테이블에 저장해보겠습니다.\n",
    "- 데이터에 따라 필요시 key 생성 방법 정의가 필요함"
   ]
  },
  {
   "cell_type": "code",
   "execution_count": 15,
   "metadata": {},
   "outputs": [
    {
     "name": "stdout",
     "output_type": "stream",
     "text": [
      "65 68 84\n",
      "65 0\n",
      "65 65\n"
     ]
    }
   ],
   "source": [
    "data1 = 'Andy'\n",
    "data2 = 'Dave'\n",
    "data3 = 'Trump'\n",
    "data4 = 'Anthor'\n",
    "## ord(): 문자의 ASCII(아스키)코드 리턴\n",
    "print (ord(data1[0]), ord(data2[0]), ord(data3[0]))\n",
    "print (ord(data1[0]), hash_func(ord(data1[0])))\n",
    "print (ord(data1[0]), ord(data4[0]))"
   ]
  },
  {
   "cell_type": "markdown",
   "metadata": {},
   "source": [
    "- 3.3.2. 해쉬 테이블에 값 저장 예\n",
    "  - data:value 와 같이 data 와 value를 넣으면, 해당 data에 대한 key를 찾아서, 해당 key에 대응하는 해쉬주소에 value를 저장하는 예"
   ]
  },
  {
   "cell_type": "code",
   "execution_count": 10,
   "metadata": {},
   "outputs": [],
   "source": [
    "def storage_data(data, value):\n",
    "    key = ord(data[0])\n",
    "    hash_address = hash_func(key)\n",
    "    hash_table[hash_address] = value"
   ]
  },
  {
   "cell_type": "markdown",
   "metadata": {},
   "source": [
    "#### 3.4. 해쉬 테이블에서 특정 주소의 데이터를 가져오는 함수도 만들어봅니다."
   ]
  },
  {
   "cell_type": "code",
   "execution_count": 12,
   "metadata": {},
   "outputs": [],
   "source": [
    "storage_data('Andy', '01055553333')\n",
    "storage_data('Dave', '01044443333')\n",
    "storage_data('Trump', '01022223333')"
   ]
  },
  {
   "cell_type": "markdown",
   "metadata": {},
   "source": [
    "#### 3.5. 실제 데이터를 저장하고, 읽어보겠습니다."
   ]
  },
  {
   "cell_type": "code",
   "execution_count": 13,
   "metadata": {},
   "outputs": [],
   "source": [
    "def get_data(data):\n",
    "    key = ord(data[0])\n",
    "    hash_address = hash_func(key)\n",
    "    return hash_table[hash_address]"
   ]
  },
  {
   "cell_type": "code",
   "execution_count": 14,
   "metadata": {},
   "outputs": [
    {
     "data": {
      "text/plain": [
       "'01055553333'"
      ]
     },
     "execution_count": 14,
     "metadata": {},
     "output_type": "execute_result"
    }
   ],
   "source": [
    "get_data('Andy')"
   ]
  },
  {
   "cell_type": "markdown",
   "metadata": {},
   "source": [
    "### 4. 자료 구조 해쉬 테이블의 장단점과 주요 용도\n",
    "- 장점\n",
    "  - 데이터 저장/읽기 속도가 빠르다. (검색 속도가 빠르다.)\n",
    "  - 해쉬는 키에 대한 데이터가 있는지(중복) 확인이 쉬움\n",
    "- 단점 \n",
    "  - 일반적으로 저장공간이 좀더 많이 필요하다.\n",
    "  - **여러 키에 해당하는 주소가 동일할 경우 충돌을 해결하기 위한 별도 자료구조가 필요함**\n",
    "- 주요 용도\n",
    "  - 검색이 많이 필요한 경우\n",
    "  - 저장, 삭제, 읽기가 빈번한 경우\n",
    "  - 캐쉬 구현시 (중복 확인이 쉽기 때문)"
   ]
  },
  {
   "cell_type": "markdown",
   "metadata": {},
   "source": [
    "### 5. 프로그래밍 연습"
   ]
  },
  {
   "cell_type": "markdown",
   "metadata": {},
   "source": [
    "<div class=\"alert alert-block alert-warning\">\n",
    "<strong><font color=\"blue\" size=\"3em\">연습1: 리스트 변수를 활용해서 해쉬 테이블 구현해보기</font></strong><br>\n",
    "1. 해쉬 함수: key % 8<br>\n",
    "2. 해쉬 키 생성: hash(data)\n",
    "</div>"
   ]
  },
  {
   "cell_type": "code",
   "execution_count": 14,
   "metadata": {},
   "outputs": [],
   "source": [
    "hash_table = [0 for i in  range(8)] # 8개의 저장공간을 가지는 리스트 생성\n",
    "\n",
    "def get_key(data):\n",
    "    return hash(data)\n",
    "\n",
    "def hash_function(key):\n",
    "    return key % 8\n",
    "\n",
    "def save_data(data, value):\n",
    "    key = get_key(data)\n",
    "    hash_address = hash_function(key)\n",
    "    hash_table[hash_address] = value\n",
    "\n",
    "def read_data(data):\n",
    "    key = get_key(data)\n",
    "    hash_address = hash_function(key)\n",
    "    return hash_table[hash_address]\n",
    "\n",
    "# hash_table = list([0 for i in range(8)])\n",
    "\n",
    "# def get_key(data):\n",
    "#     return hash(data)\n",
    "\n",
    "# def hash_function(key):\n",
    "#     return key % 8\n",
    "\n",
    "# def save_data(data, value):\n",
    "#     hash_address = hash_function(get_key(data))\n",
    "#     hash_table[hash_address] = value\n",
    "    \n",
    "# def read_data(data):\n",
    "#     hash_address = hash_function(get_key(data))\n",
    "#     return hash_table[hash_address]\n"
   ]
  },
  {
   "cell_type": "code",
   "execution_count": 15,
   "metadata": {},
   "outputs": [
    {
     "output_type": "execute_result",
     "data": {
      "text/plain": [
       "'0102030200'"
      ]
     },
     "metadata": {},
     "execution_count": 15
    }
   ],
   "source": [
    "save_data('Dave', '0102030200')\n",
    "save_data('Andy', '01033232200')\n",
    "read_data('Dave')"
   ]
  },
  {
   "cell_type": "code",
   "execution_count": 16,
   "metadata": {},
   "outputs": [
    {
     "output_type": "execute_result",
     "data": {
      "text/plain": [
       "['0102030200', '01033232200', 0, 0, 0, 0, 0, 0]"
      ]
     },
     "metadata": {},
     "execution_count": 16
    }
   ],
   "source": [
    "hash_table"
   ]
  },
  {
   "cell_type": "markdown",
   "metadata": {},
   "source": [
    "### 6. 충돌(Collision) 해결 알고리즘 (좋은 해쉬 함수 사용하기)\n",
    "> 해쉬 테이블의 가장 큰 문제는 충돌(Collision)의 경우입니다.\n",
    "> 이 문제를 충돌(Collision) 또는 해쉬 충돌(Hash Collision)이라고 부릅니다."
   ]
  },
  {
   "cell_type": "markdown",
   "metadata": {},
   "source": [
    "#### 6.1. Chaining 기법\n",
    "- **개방 해슁 또는 Open Hashing 기법** 중 하나: 해쉬 테이블 저장공간 외의 공간을 활용하는 기법\n",
    "- 충돌이 일어나면, 링크드 리스트라는 자료 구조를 사용해서, 링크드 리스트로 데이터를 추가로 뒤에 연결시켜서 저장하는 기법"
   ]
  },
  {
   "cell_type": "markdown",
   "metadata": {},
   "source": [
    "<div class=\"alert alert-block alert-warning\">\n",
    "<strong><font color=\"blue\" size=\"3em\">연습2: 연습1의 해쉬 테이블 코드에 Chaining 기법으로 충돌해결 코드를 추가해보기</font></strong><br>\n",
    "1. 해쉬 함수: key % 8<br>\n",
    "2. 해쉬 키 생성: hash(data)\n",
    "</div>"
   ]
  },
  {
   "cell_type": "code",
   "execution_count": 45,
   "metadata": {},
   "outputs": [],
   "source": [
    "hash_table = [0 for i in range(8)]\n",
    "\n",
    "def get_key(data):\n",
    "    print('hash: ', hash(data))\n",
    "    return hash(data)\n",
    "\n",
    "def hash_function(key):\n",
    "    print('key: ', key % 8)\n",
    "    return key % 8\n",
    "\n",
    "def save_data(data, value):\n",
    "    print('data: ', data, 'value: ', value)\n",
    "    index_key = get_key(data)\n",
    "    hash_address = hash_function(index_key)\n",
    "    if hash_table[hash_address]: # 만약 해당 주소에 이미 할당된 값이 있다면,\n",
    "        for index in range(len(hash_table[hash_address])):\n",
    "            if hash_table[hash_address][index][0] == index_key:\n",
    "                return # 이미 해당값이 저장되어 있으므로 함수 종료\n",
    "        # 해당값이 저장되어 있지 않으면, hash_table에 저장한 후 함수 종료\n",
    "        hash_table[hash_address].append([index_key, value])\n",
    "    else: # 해당 주소에 아직 할당된 값이 없다면,\n",
    "        hash_table[hash_address] = [[index_key, value]]\n",
    "\n",
    "def read_data(data):\n",
    "    print('data: ', data)\n",
    "    index_key = get_key(data)\n",
    "    hash_address = hash_function(index_key)\n",
    "    if hash_table[hash_address]:\n",
    "        for index in range(len(hash_table[hash_address])):\n",
    "            if hash_table[hash_address][index][0] == index_key:\n",
    "                return hash_table[hash_address][index][1] # 해당 값이 있으면 값을 반환\n",
    "        return False # 순회를 마쳤음에도 값이 발견되지 않으면, 없다는 것이므로 False 반환\n",
    "    else:\n",
    "        return False # 데이터가 저장되어 있지 않음\n",
    "\n",
    "\n",
    "\n",
    "# hash_table = list([0 for i in range(8)])\n",
    "\n",
    "# def get_key(data):\n",
    "#     return hash(data)\n",
    "\n",
    "# def hash_function(key):\n",
    "#     return key % 8\n",
    "\n",
    "# def save_data(data, value):\n",
    "#     index_key = get_key(data)\n",
    "#     hash_address = hash_function(index_key)\n",
    "#     if hash_table[hash_address] != 0:\n",
    "#         for index in range(len(hash_table[hash_address])):\n",
    "#             if hash_table[hash_address][index][0] == index_key:\n",
    "#                 hash_table[hash_address][index][1] = value\n",
    "#                 return\n",
    "#         hash_table[hash_address].append([index_key, value])\n",
    "#     else:\n",
    "#         hash_table[hash_address] = [[index_key, value]]\n",
    "    \n",
    "# def read_data(data):\n",
    "#     index_key = get_key(data)\n",
    "#     hash_address = hash_function(index_key)\n",
    "\n",
    "#     if hash_table[hash_address] != 0:\n",
    "#         for index in range(len(hash_table[hash_address])):\n",
    "#             if hash_table[hash_address][index][0] == index_key:\n",
    "#                 return hash_table[hash_address][index][1]\n",
    "#         return None\n",
    "#     else:\n",
    "#         return None\n"
   ]
  },
  {
   "cell_type": "code",
   "execution_count": 46,
   "metadata": {},
   "outputs": [
    {
     "output_type": "stream",
     "name": "stdout",
     "text": [
      "0\n1\n0\nhash:  -3171608383783782304\nkey:  0\n0\nhash:  777529761420899361\nkey:  1\n1\nhash:  4154077599749091504\nkey:  0\n0\n"
     ]
    }
   ],
   "source": [
    "print (hash('Dave') % 8)\n",
    "print (hash('Dd') % 8)\n",
    "print (hash('Data') % 8)\n",
    "print(hash_function(get_key('Dave')))\n",
    "print(hash_function(get_key('Dd')))\n",
    "print(hash_function(get_key('Data')))"
   ]
  },
  {
   "cell_type": "code",
   "execution_count": 47,
   "metadata": {},
   "outputs": [
    {
     "output_type": "stream",
     "name": "stdout",
     "text": [
      "data:  Dd value:  1201023010\nhash:  777529761420899361\nkey:  1\ndata:  Data value:  3301023010\nhash:  4154077599749091504\nkey:  0\ndata:  Dd\nhash:  777529761420899361\nkey:  1\n"
     ]
    },
    {
     "output_type": "execute_result",
     "data": {
      "text/plain": [
       "'1201023010'"
      ]
     },
     "metadata": {},
     "execution_count": 47
    }
   ],
   "source": [
    "save_data('Dd', '1201023010')\n",
    "save_data('Data', '3301023010')\n",
    "read_data('Dd')"
   ]
  },
  {
   "cell_type": "code",
   "execution_count": 48,
   "metadata": {},
   "outputs": [
    {
     "output_type": "execute_result",
     "data": {
      "text/plain": [
       "[[[4154077599749091504, '3301023010']],\n",
       " [[777529761420899361, '1201023010']],\n",
       " 0,\n",
       " 0,\n",
       " 0,\n",
       " 0,\n",
       " 0,\n",
       " 0]"
      ]
     },
     "metadata": {},
     "execution_count": 48
    }
   ],
   "source": [
    "hash_table"
   ]
  },
  {
   "cell_type": "markdown",
   "metadata": {},
   "source": [
    "#### 6.2. Linear Probing 기법\n",
    "- **폐쇄 해슁 또는 Close Hashing 기법** 중 하나: 해쉬 테이블 저장공간 안에서 충돌 문제를 해결하는 기법\n",
    "- 충돌이 일어나면, 해당 hash address의 다음 address부터 맨 처음 나오는 빈공간에 저장하는 기법\n",
    "  - 저장공간 활용도를 높이기 위한 기법"
   ]
  },
  {
   "cell_type": "markdown",
   "metadata": {},
   "source": [
    "<div class=\"alert alert-block alert-warning\">\n",
    "<strong><font color=\"blue\" size=\"3em\">연습3: 연습1의 해쉬 테이블 코드에 Linear Probling 기법으로 충돌해결 코드를 추가해보기</font></strong><br>\n",
    "1. 해쉬 함수: key % 8<br>\n",
    "2. 해쉬 키 생성: hash(data)\n",
    "</div>"
   ]
  },
  {
   "cell_type": "code",
   "execution_count": 56,
   "metadata": {},
   "outputs": [],
   "source": [
    "hash_table = [0 for i in range(8)]\n",
    "\n",
    "def get_key(data):\n",
    "    print('hash: ', hash(data))\n",
    "    return hash(data)\n",
    "\n",
    "def hash_function(key):\n",
    "    print('key: ', key % 8)\n",
    "    return key % 8\n",
    "\n",
    "def save_data(data, value):\n",
    "    print('data: ', data, 'value: ', value)\n",
    "    index_key = get_key(data)\n",
    "    hash_address = hash_function(index_key)\n",
    "\n",
    "    # Closing Hashing(폐쇄해싱) 구현\n",
    "    if hash_table[hash_address]: # 만약 해당 주소에 이미 할당된 값이 있다면,\n",
    "        for index in range(hash_address, len(hash_table)):\n",
    "            # 해당 주소에 저장된 값이 없다면, 새롭게 값을 저장하는 코드\n",
    "            if hash_table[index] == 0:\n",
    "                hash_table[index] = [[index_key, value]]\n",
    "                return\n",
    "            # 해당 index_key값이 테이블에 저장되어 있다면, 갱신하는 용도로 실행되는 코드\n",
    "            elif hash_table[index][0] == index_key:\n",
    "                hash_table[index] = [[index_key, value]]\n",
    "                return\n",
    "    \n",
    "    else: # 해당 주소에 할당된 값이 없다면, 새롭게 값을 저장하는 코드\n",
    "        hash_table[hash_address] = [[index_key, value]]\n",
    "\n",
    "def read_data(data):\n",
    "    print('data: ', data)\n",
    "    index_key = get_key(data)\n",
    "    hash_address = hash_function(index_key)\n",
    "    if hash_table[hash_address]:\n",
    "        for index in range(hash_address, len(hash_table)):\n",
    "            if hash_table[index] == 0: # 해당주소에 아무런 값도 저장되어 있지 않음\n",
    "                return None\n",
    "            elif hash_table[index][0] == index_key:\n",
    "                return hash_table[index][1] # 찾고자 하는 키와 일치하면, 값을 반환\n",
    "    else:\n",
    "        return None # 데이터가 저장되어 있지 않음\n",
    "\n",
    "    if hash_table[hash_address] != 0:\n",
    "        for index in range(hash_address, len(hash_table)):\n",
    "            if hash_table[index] == 0:\n",
    "                hash_table[index] = [index_key, value]\n",
    "                return\n",
    "            elif hash_table[index][0] == index_key:\n",
    "                hash_table[index][1] = value\n",
    "                return\n",
    "    else:\n",
    "        hash_table[hash_address] = [index_key, value]"
   ]
  },
  {
   "cell_type": "code",
   "execution_count": 57,
   "metadata": {},
   "outputs": [
    {
     "output_type": "stream",
     "name": "stdout",
     "text": [
      "3\n3\n1\n4\n4\n"
     ]
    }
   ],
   "source": [
    "print (hash('dk') % 8)\n",
    "print (hash('da') % 8)\n",
    "print (hash('dc') % 8)\n",
    "print (hash('dd') % 8)\n",
    "print (hash('daa') % 8)"
   ]
  },
  {
   "cell_type": "code",
   "execution_count": 60,
   "metadata": {},
   "outputs": [
    {
     "output_type": "stream",
     "name": "stdout",
     "text": [
      "data:  dk value:  01200123123\nhash:  4931909697406984467\nkey:  3\ndata:  dc value:  3333333333\nhash:  6442386544268507049\nkey:  1\ndata:  da value:  3434343434\nhash:  -9094227407945209397\nkey:  3\ndata:  da\nhash:  -9094227407945209397\nkey:  3\n"
     ]
    }
   ],
   "source": [
    "save_data('dk', '01200123123')\n",
    "save_data('dc', '3333333333')\n",
    "save_data('da', '3434343434')\n",
    "read_data('da')"
   ]
  },
  {
   "cell_type": "markdown",
   "metadata": {},
   "source": [
    "#### 6.3. 빈번한 충돌을 개선하는 기법\n",
    "- 해쉬 함수을 재정의 및 해쉬 테이블 저장공간을 확대\n",
    "- 예:\n",
    "\n",
    "```python\n",
    "hash_table = list([None for i in range(16)])\n",
    "\n",
    "def hash_function(key):\n",
    "    return key % 16\n",
    "```"
   ]
  },
  {
   "cell_type": "markdown",
   "metadata": {},
   "source": [
    "### 참고: 해쉬 함수와 키 생성 함수\n",
    "- 파이썬의 hash() 함수는 실행할 때마다, 값이 달라질 수 있음\n",
    "- 유명한 해쉬 함수들이 있음: SHA(Secure Hash Algorithm, 안전한 해시 알고리즘)\n",
    "  - 어떤 데이터도 유일한 고정된 크기의 고정값을 리턴해주므로, 해쉬 함수로 유용하게 활용 가능\n",
    "  - 해당 함수를 통해 반환된 hash값으로 원래의 데이터를 유추할 수 없다는 장점(보안)"
   ]
  },
  {
   "cell_type": "markdown",
   "metadata": {},
   "source": [
    "#### SHA-1"
   ]
  },
  {
   "cell_type": "code",
   "execution_count": 63,
   "metadata": {},
   "outputs": [
    {
     "output_type": "stream",
     "name": "stdout",
     "text": [
      "b'test'\na94a8fe5ccb19ba61c4c0873d391e987982fbbd3\n"
     ]
    }
   ],
   "source": [
    "import hashlib\n",
    "\n",
    "data = 'test'.encode() # 주어진 문자열을 바이트코드로 변환\n",
    "print(data)\n",
    "hash_object = hashlib.sha1() # sha1 해쉬객체 생성\n",
    "hash_object.update(data) # 해쉬객체에 data(바이트코드)를 전달\n",
    "hex_dig = hash_object.hexdigest() # 해쉬객체를 16진수로 변환\n",
    "print (hex_dig)"
   ]
  },
  {
   "cell_type": "markdown",
   "metadata": {},
   "source": [
    "#### SHA-256"
   ]
  },
  {
   "cell_type": "code",
   "execution_count": 65,
   "metadata": {},
   "outputs": [
    {
     "output_type": "stream",
     "name": "stdout",
     "text": [
      "b'test'\n9f86d081884c7d659a2feaa0c55ad015a3bf4f1b2b0b822cd15d6c15b0f00a08\n"
     ]
    }
   ],
   "source": [
    "import hashlib\n",
    "\n",
    "data = 'test'.encode() # 주어진 문자열을 바이트코드로 변환\n",
    "print(data)\n",
    "hash_object = hashlib.sha256() # sha256 해쉬객체 생성\n",
    "hash_object.update(data) # 해쉬객체에 data(바이트코드)를 전달\n",
    "hex_dig = hash_object.hexdigest() # 해쉬객체를 16진수로 변환\n",
    "print (hex_dig)"
   ]
  },
  {
   "cell_type": "markdown",
   "metadata": {},
   "source": [
    "<div class=\"alert alert-block alert-warning\">\n",
    "<strong><font color=\"red\" size=\"3em\">연습4: 연습2의 Chaining 기법을 적용한 해쉬 테이블 코드에 키 생성 함수를 sha256 해쉬 알고리즘을 사용하도록 변경해보기</font></strong><br>\n",
    "1. 해쉬 함수: key % 8<br>\n",
    "2. 해쉬 키 생성: hash(data)\n",
    "</div>"
   ]
  },
  {
   "cell_type": "code",
   "execution_count": 75,
   "metadata": {},
   "outputs": [],
   "source": [
    "import hashlib\n",
    "# 해쉬관련 라이브러리 가져오기\n",
    "\n",
    "# 해쉬테이블 초기화\n",
    "hash_table = [0 for i in range(8)]\n",
    "\n",
    "# 키 생성 함수: sha256()을 이용하여 해쉬객체 생성\n",
    "def get_key(data):\n",
    "    # 해쉬 객체 생성\n",
    "    hash_object = hashlib.sha256()\n",
    "    # 데이터를 바이트코드로 인코딩하기\n",
    "    b_data = data.encode()\n",
    "    # 해쉬 객체에 바이트코드화된 데이터를 전달\n",
    "    hash_object.update(b_data)\n",
    "    # 16진수의 문자열로 해쉬 객체를 변환하기\n",
    "    hex_dig = hash_object.hexdigest()\n",
    "    print('hex dig: ', hex_dig)\n",
    "    print('int(hex_dig, 16): ', int(hex_dig, 16))\n",
    "    # 문자열이 16진수를 나타내고 있다는 정보를 함께 int() 생성자에 전달하여 정수를 반환 \n",
    "    return int(hex_dig, 16) \n",
    "\n",
    "def hash_function(key):\n",
    "    return key % 8\n",
    "\n",
    "def save_data(data, value):\n",
    "    index_key = get_key(data)\n",
    "    hash_address = hash_function(index_key)\n",
    "    if hash_table[hash_address] != 0:\n",
    "        for index in range(hash_address, len(hash_table)):\n",
    "            if hash_table[index] == 0:\n",
    "                hash_table[index] = [index_key, value]\n",
    "                return\n",
    "            elif hash_table[index][0] == index_key:\n",
    "                hash_table[index][1] = value\n",
    "                return\n",
    "    else:\n",
    "        hash_table[hash_address] = [index_key, value]\n",
    "\n",
    "def read_data(data):\n",
    "    index_key = get_key(data)\n",
    "    hash_address = hash_function(index_key)\n",
    "    \n",
    "    if hash_table[hash_address] != 0:\n",
    "        for index in range(hash_address, len(hash_table)):\n",
    "            if hash_table[index] == 0:\n",
    "                return None\n",
    "            elif hash_table[index][0] == index_key:\n",
    "                return hash_table[index][1]\n",
    "    else:\n",
    "        return None\n"
   ]
  },
  {
   "cell_type": "code",
   "execution_count": 76,
   "metadata": {},
   "outputs": [
    {
     "output_type": "stream",
     "name": "stdout",
     "text": [
      "hex dig:  7bdc25d1694ef984782a16f6f1710c1c6bc83ba7a131b515baf532bea021d011\nint(hex_dig, 16):  56023447740326973930934189836995694929976025384421001605890631798736143110161\n1\nhex dig:  aa58b21b01d6b8a99c1a5856962dbac36c758a79dc0a77c2e013ce2c39ecdc8a\nint(hex_dig, 16):  77049896039817716104633086125973601665927154587286664305423403838091909979274\n2\nhex dig:  3944783bc199f6d262054408115175aece74baa066e56f69f7900f4c4f261092\nint(hex_dig, 16):  25902807790238191969936164090115518991880572428612380032453909518048593055890\n2\n"
     ]
    }
   ],
   "source": [
    "print (get_key('db') % 8)\n",
    "print (get_key('da') % 8)\n",
    "print (get_key('dh') % 8)"
   ]
  },
  {
   "cell_type": "code",
   "execution_count": 77,
   "metadata": {},
   "outputs": [
    {
     "output_type": "stream",
     "name": "stdout",
     "text": [
      "hex dig:  aa58b21b01d6b8a99c1a5856962dbac36c758a79dc0a77c2e013ce2c39ecdc8a\nint(hex_dig, 16):  77049896039817716104633086125973601665927154587286664305423403838091909979274\nhex dig:  3944783bc199f6d262054408115175aece74baa066e56f69f7900f4c4f261092\nint(hex_dig, 16):  25902807790238191969936164090115518991880572428612380032453909518048593055890\nhex dig:  3944783bc199f6d262054408115175aece74baa066e56f69f7900f4c4f261092\nint(hex_dig, 16):  25902807790238191969936164090115518991880572428612380032453909518048593055890\n"
     ]
    },
    {
     "output_type": "execute_result",
     "data": {
      "text/plain": [
       "'3333333333'"
      ]
     },
     "metadata": {},
     "execution_count": 77
    }
   ],
   "source": [
    "save_data('da', '01200123123')\n",
    "save_data('dh', '3333333333')\n",
    "read_data('dh')"
   ]
  },
  {
   "cell_type": "code",
   "execution_count": 78,
   "metadata": {},
   "outputs": [
    {
     "output_type": "stream",
     "name": "stdout",
     "text": [
      "[0, 0, [77049896039817716104633086125973601665927154587286664305423403838091909979274, '01200123123'], [25902807790238191969936164090115518991880572428612380032453909518048593055890, '3333333333'], 0, 0, 0, 0]\n"
     ]
    }
   ],
   "source": [
    "print(hash_table)"
   ]
  },
  {
   "cell_type": "markdown",
   "metadata": {},
   "source": [
    "### 7. 시간 복잡도\n",
    "- 일반적인 경우(Collision이 없는 경우)는 O(1)\n",
    "- 최악의 경우(Collision이 모두 발생하는 경우)는 O(n)\n",
    "\n",
    "> 해쉬 테이블의 경우, 일반적인 경우를 기대하고 만들기 때문에, 시간 복잡도는 O(1) 이라고 말할 수 있음\n",
    "\n",
    "### 검색에서 해쉬 테이블의 사용 예\n",
    "- 16개의 배열에 데이터를 저장하고, 검색할 때 O(n)\n",
    "- 16개의 데이터 저장공간을 가진 위의 해쉬 테이블에 데이터를 저장하고, 검색할 때 O(1)"
   ]
  }
 ],
 "metadata": {
  "kernelspec": {
   "name": "python3",
   "display_name": "Python 3.9.5 64-bit"
  },
  "language_info": {
   "codemirror_mode": {
    "name": "ipython",
    "version": 3
   },
   "file_extension": ".py",
   "mimetype": "text/x-python",
   "name": "python",
   "nbconvert_exporter": "python",
   "pygments_lexer": "ipython3",
   "version": "3.9.5"
  },
  "nbTranslate": {
   "displayLangs": [
    "*"
   ],
   "hotkey": "alt-t",
   "langInMainMenu": true,
   "sourceLang": "en",
   "targetLang": "fr",
   "useGoogleTranslate": true
  },
  "interpreter": {
   "hash": "13c0caf6928f330ac2055d75c338dc1bc2262b22cdd331ba826c81c895290ce9"
  }
 },
 "nbformat": 4,
 "nbformat_minor": 1
}